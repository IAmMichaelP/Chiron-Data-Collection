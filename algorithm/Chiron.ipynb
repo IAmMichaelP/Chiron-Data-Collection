{
 "cells": [
  {
   "cell_type": "code",
   "execution_count": 1,
   "metadata": {},
   "outputs": [
    {
     "name": "stderr",
     "output_type": "stream",
     "text": [
      "c:\\Python312\\Lib\\site-packages\\tqdm\\auto.py:21: TqdmWarning: IProgress not found. Please update jupyter and ipywidgets. See https://ipywidgets.readthedocs.io/en/stable/user_install.html\n",
      "  from .autonotebook import tqdm as notebook_tqdm\n"
     ]
    }
   ],
   "source": [
    "from transformers import DistilBertTokenizer, DistilBertForSequenceClassification\n",
    "import torch"
   ]
  },
  {
   "cell_type": "code",
   "execution_count": 2,
   "metadata": {},
   "outputs": [],
   "source": [
    "\n",
    "# Path to your model directory\n",
    "model_path = \"./distilbert_model3\"\n",
    "\n",
    "# Load the tokenizer\n",
    "tokenizer = DistilBertTokenizer.from_pretrained(model_path)\n",
    "\n",
    "# Load the model\n",
    "model = DistilBertForSequenceClassification.from_pretrained(model_path)\n",
    "\n",
    "# Example: Classify a news article\n",
    "def classify_news(text, tokenizer, model, max_length=512):\n",
    "    \"\"\"\n",
    "    Classify news content as \"authentic\" or \"fake\".\n",
    "\n",
    "    Parameters:\n",
    "        text (str): The news content to classify.\n",
    "        tokenizer: The DistilBERT tokenizer.\n",
    "        model: The fine-tuned DistilBERT model.\n",
    "        max_length (int): Maximum length of the input sequence.\n",
    "\n",
    "    Returns:\n",
    "        str: \"authentic\" or \"fake\".\n",
    "    \"\"\" \n",
    "    # Preprocess the input text\n",
    "    inputs = tokenizer(\n",
    "        text,\n",
    "        truncation=True,\n",
    "        padding=True,\n",
    "        max_length=max_length,\n",
    "        return_tensors=\"pt\"  # Return PyTorch tensors\n",
    "    )\n",
    "\n",
    "    # Make prediction\n",
    "    with torch.no_grad():\n",
    "        outputs = model(**inputs)\n",
    "        logits = outputs.logits\n",
    "        predicted_class = torch.argmax(logits, dim=-1).item()\n",
    "\n",
    "    print(\"This is the value: \")\n",
    "    print(predicted_class)\n",
    "\n",
    "    # Map predicted class index to label\n",
    "    labels = [\"fake\", \"authentic\"]  # Ensure this matches your training labels\n",
    "    return labels[predicted_class]\n",
    "\n"
   ]
  },
  {
   "cell_type": "code",
   "execution_count": null,
   "metadata": {},
   "outputs": [
    {
     "name": "stdout",
     "output_type": "stream",
     "text": [
      "This is the value: \n",
      "0\n",
      "The news is classified as: fake\n"
     ]
    }
   ],
   "source": [
    "if __name__ == \"__main__\":\n",
    "    news_content = \"\"\"\n",
    "\n",
    "LONDON - The World Health Organization plans to officially back the use of weight-loss drugs to treat obesity in adults for the first time, a memo reviewed by Reuters on Thursday shows, marking a shift in its approach to treating the global health problem.\n",
    "\n",
    "The UN agency also called for strategies to improve access to the treatment in low- and middle-income countries.\n",
    "\n",
    "More than a billion people now have obesity worldwide, according to the WHO, and around 70% of them live in low and middle-income countries, the World Bank estimates.\n",
    "\n",
    "The wildly popular obesity drugs - Wegovy developed by Novo Nordisk and Zepbound by Eli Lilly - are known as GLP-1 receptor agonists, which mimic the activity of a hormone that slows digestion and helps people feel full for longer. In clinical trials, people lost 15% to 20% of their body weight, depending on the drug.\n",
    "\n",
    "The drugs have been launched in the United States and other high-income countries like Germany and Britain.\n",
    "\n",
    "\n",
    "But they can cost over $1,000 a month, and studies suggest people may have to take the drugs for the rest of their lives to keep the weight off.\n",
    "\n",
    "\"WHO has been working on a set of new recommendations for obesity prevention, care, and treatment in different age groups – children, adolescents, and adults since 2022,\" said a WHO spokesperson by email. The recommendations for the drugs, which will be finalized by August or September this year, will include \"how and when this class of medications may be integrated as one component of a chronic care model that includes both clinical and lifestyle interventions.\"\n",
    "\n",
    "Eli Lilly and Novo Nordisk were not immediately available for comment.\n",
    "\n",
    "Separately, WHO experts will also meet next week to decide whether to include the GLP-1 drugs in the agency's essential medicines list - both to treat obesity and type 2 diabetes.\n",
    "\n",
    "The WHO's essential medicines list is a catalogue of the drugs that should be available in all functioning health systems, and it can help make drugs more widely available in poorer countries, as experts say happened in 2002 when HIV drugs were included.\n",
    "\n",
    "In 2023, the experts decided against adding obesity drugs to the list, with WHO saying more evidence was needed on their long-term clinical benefit.\n",
    "\n",
    "However, in the new memo recommending their use as a treatment, the agency says it supports including them on the list this time round.\n",
    "\n",
    "Still, the WHO also raises concerns over the cost of the drugs and calls for longer-term studies on cost-effectiveness \"across all settings, including LMICs\" (low- and middle-income countries).\n",
    "\n",
    "\"The same mechanisms that are used in large-scale medicine access programs may need to be adopted,\" to improve access, the WHO adds, such as tiered pricing or pooled procurement.\n",
    "\n",
    "But it also notes that the active ingredient in one of the newer drugs, semaglutide - used in Novo's Wegovy - comes off patent in some markets next year.\n",
    "\n",
    "Several companies are planning to launch cheaper generic versions of the drugs then. Liraglutide, the active ingredient in the older generation of drugs, is already available as a lower-cost generic drug, with products approved in the U.S. and Europe, the memo adds. — Reuters\n",
    "\n",
    "\"\"\"\n",
    "    # Classify the news\n",
    "    result = classify_news(news_content, tokenizer, model)\n",
    "    print(f\"The news is classified as: {result}\")"
   ]
  },
  {
   "cell_type": "markdown",
   "metadata": {},
   "source": []
  }
 ],
 "metadata": {
  "kernelspec": {
   "display_name": "Python 3",
   "language": "python",
   "name": "python3"
  },
  "language_info": {
   "codemirror_mode": {
    "name": "ipython",
    "version": 3
   },
   "file_extension": ".py",
   "mimetype": "text/x-python",
   "name": "python",
   "nbconvert_exporter": "python",
   "pygments_lexer": "ipython3",
   "version": "3.12.6"
  }
 },
 "nbformat": 4,
 "nbformat_minor": 2
}
