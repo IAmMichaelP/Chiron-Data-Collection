{
 "cells": [
  {
   "cell_type": "code",
   "execution_count": 2,
   "metadata": {},
   "outputs": [
    {
     "name": "stderr",
     "output_type": "stream",
     "text": [
      "c:\\Python312\\Lib\\site-packages\\tqdm\\auto.py:21: TqdmWarning: IProgress not found. Please update jupyter and ipywidgets. See https://ipywidgets.readthedocs.io/en/stable/user_install.html\n",
      "  from .autonotebook import tqdm as notebook_tqdm\n"
     ]
    }
   ],
   "source": [
    "from transformers import DistilBertTokenizer, DistilBertForSequenceClassification\n",
    "import torch"
   ]
  },
  {
   "cell_type": "code",
   "execution_count": null,
   "metadata": {},
   "outputs": [],
   "source": [
    "\n",
    "# Path to your model directory\n",
    "model_path = \"./distilbert_model\"\n",
    "\n",
    "# Load the tokenizer\n",
    "tokenizer = DistilBertTokenizer.from_pretrained(model_path)\n",
    "\n",
    "# Load the model\n",
    "model = DistilBertForSequenceClassification.from_pretrained(model_path)\n",
    "\n",
    "# Example: Classify a news article\n",
    "def classify_news(text, tokenizer, model, max_length=512):\n",
    "    \"\"\"\n",
    "    Classify news content as \"authentic\" or \"fake\".\n",
    "\n",
    "    Parameters:\n",
    "        text (str): The news content to classify.\n",
    "        tokenizer: The DistilBERT tokenizer.\n",
    "        model: The fine-tuned DistilBERT model.\n",
    "        max_length (int): Maximum length of the input sequence.\n",
    "\n",
    "    Returns:\n",
    "        str: \"authentic\" or \"fake\".\n",
    "    \"\"\" \n",
    "    # Preprocess the input text\n",
    "    inputs = tokenizer(\n",
    "        text,\n",
    "        truncation=True,\n",
    "        padding=True,\n",
    "        max_length=max_length,\n",
    "        return_tensors=\"pt\"  # Return PyTorch tensors\n",
    "    )\n",
    "\n",
    "    # Make prediction\n",
    "    with torch.no_grad():\n",
    "        outputs = model(**inputs)\n",
    "        logits = outputs.logits\n",
    "        predicted_class = torch.argmax(logits, dim=-1).item()\n",
    "\n",
    "    print(\"This is the value: \")\n",
    "    print(predicted_class)\n",
    "\n",
    "    # Map predicted class index to label\n",
    "    labels = [\"fake\", \"authentic\"]  # Ensure this matches your training labels\n",
    "    return labels[predicted_class]\n",
    "\n"
   ]
  },
  {
   "cell_type": "code",
   "execution_count": null,
   "metadata": {},
   "outputs": [
    {
     "name": "stdout",
     "output_type": "stream",
     "text": [
      "This is the value: \n",
      "1\n",
      "The news is classified as: authentic\n"
     ]
    }
   ],
   "source": [
    "if __name__ == \"__main__\":\n",
    "    news_content = \"If you’ve ever been in labor, or know someone who has, you’ve heard of an epidural. The term is an adjective that has also become a noun, describing one of the most common analgesic procedures available in modern medicine. But epidurals are used widely and effectively outside of the delivery room as well. Decades of practice, refinement of the tools and drugs used in the procedure, and significant amounts of research have shown epidurals to be a safe and effective way of easing severe pain associated with childbirth, chronic back pain, surgery, and more. Nevertheless, plenty of people are understandably leery of the idea of a needle being jabbed into their spine without fully understanding where exactly that needle goes, or how the drugs administered during the procedure are supposed to work. Here’s the backstory on epidurals. First devised more than a century ago, doctors in France realized that they could temporarily ease pain or numb sensation by injecting a painkilling drug (initially cocaine, and later, other analgesics and anesthetics) into the epidural space of the spine. This spinal area lies just outside the dura mater, and is a tough membrane that encases the spinal cord and the system that allows cerebrospinal fluid to circulate. The procedure was initially viewed as a method to help numb a patient for surgery, after an injury (as in the case of soldiers wounded in battle), or to ease chronic pain conditions, such as sciatica. Epidurals to ease labor weren’t really used in the delivery room until the 1940s; during the next couple of decades, the procedure gradually began to supplant other methods used to ease birthing pains. Over time, doctors and anesthesiologists refined epidural procedures to include the use of catheters for more controlled delivery of pain-relieving drugs. Pain experts also developed procedures to mitigate chronic spinal or neck pain by administering steroids (rather than a narcotic) to ease inflammation. In fact, epidural injections for such conditions are far more common — some 9 million are performed per year — than epidurals used during childbirth. That said, epidurals today are the gold standard for pain management in the delivery room — in the U.S. alone, as many as 75 percent of women in labor opt for the procedure, which is considered safer for expectant moms and their babies than oral or IV painkillers.\"\n",
    "\n",
    "    # Classify the news\n",
    "    result = classify_news(news_content, tokenizer, model)\n",
    "    print(f\"The news is classified as: {result}\")"
   ]
  },
  {
   "cell_type": "markdown",
   "metadata": {},
   "source": []
  }
 ],
 "metadata": {
  "kernelspec": {
   "display_name": "Python 3",
   "language": "python",
   "name": "python3"
  },
  "language_info": {
   "codemirror_mode": {
    "name": "ipython",
    "version": 3
   },
   "file_extension": ".py",
   "mimetype": "text/x-python",
   "name": "python",
   "nbconvert_exporter": "python",
   "pygments_lexer": "ipython3",
   "version": "3.12.6"
  }
 },
 "nbformat": 4,
 "nbformat_minor": 2
}
