{
 "cells": [
  {
   "cell_type": "code",
   "execution_count": 3,
   "metadata": {},
   "outputs": [
    {
     "name": "stderr",
     "output_type": "stream",
     "text": [
      "c:\\Python312\\Lib\\site-packages\\tqdm\\auto.py:21: TqdmWarning: IProgress not found. Please update jupyter and ipywidgets. See https://ipywidgets.readthedocs.io/en/stable/user_install.html\n",
      "  from .autonotebook import tqdm as notebook_tqdm\n"
     ]
    }
   ],
   "source": [
    "from transformers import DistilBertTokenizer, DistilBertForSequenceClassification\n",
    "import torch"
   ]
  },
  {
   "cell_type": "code",
   "execution_count": 4,
   "metadata": {},
   "outputs": [],
   "source": [
    "\n",
    "# Path to your model directory\n",
    "model_path = \"./distilbert_model\"\n",
    "\n",
    "# Load the tokenizer\n",
    "tokenizer = DistilBertTokenizer.from_pretrained(model_path)\n",
    "\n",
    "# Load the model\n",
    "model = DistilBertForSequenceClassification.from_pretrained(model_path)\n",
    "\n",
    "# Example: Classify a news article\n",
    "def classify_news(text, tokenizer, model, max_length=512):\n",
    "    \"\"\"\n",
    "    Classify news content as \"authentic\" or \"fake\".\n",
    "\n",
    "    Parameters:\n",
    "        text (str): The news content to classify.\n",
    "        tokenizer: The DistilBERT tokenizer.\n",
    "        model: The fine-tuned DistilBERT model.\n",
    "        max_length (int): Maximum length of the input sequence.\n",
    "\n",
    "    Returns:\n",
    "        str: \"authentic\" or \"fake\".\n",
    "    \"\"\" \n",
    "    # Preprocess the input text\n",
    "    inputs = tokenizer(\n",
    "        text,\n",
    "        truncation=True,\n",
    "        padding=True,\n",
    "        max_length=max_length,\n",
    "        return_tensors=\"pt\"  # Return PyTorch tensors\n",
    "    )\n",
    "\n",
    "    # Make prediction\n",
    "    with torch.no_grad():\n",
    "        outputs = model(**inputs)\n",
    "        logits = outputs.logits\n",
    "        predicted_class = torch.argmax(logits, dim=-1).item()\n",
    "\n",
    "    print(\"This is the value: \")\n",
    "    print(predicted_class)\n",
    "\n",
    "    # Map predicted class index to label\n",
    "    labels = [\"fake\", \"authentic\"]  # Ensure this matches your training labels\n",
    "    return labels[predicted_class]\n",
    "\n"
   ]
  },
  {
   "cell_type": "code",
   "execution_count": null,
   "metadata": {},
   "outputs": [
    {
     "name": "stdout",
     "output_type": "stream",
     "text": [
      "This is the value: \n",
      "0\n",
      "The news is classified as: fake\n"
     ]
    }
   ],
   "source": [
    "if __name__ == \"__main__\":\n",
    "    news_content = \"\"\"\n",
    "\n",
    "\"\"\"\n",
    "    # Classify the news\n",
    "    result = classify_news(news_content, tokenizer, model)\n",
    "    print(f\"The news is classified as: {result}\")"
   ]
  },
  {
   "cell_type": "markdown",
   "metadata": {},
   "source": []
  }
 ],
 "metadata": {
  "kernelspec": {
   "display_name": "Python 3",
   "language": "python",
   "name": "python3"
  },
  "language_info": {
   "codemirror_mode": {
    "name": "ipython",
    "version": 3
   },
   "file_extension": ".py",
   "mimetype": "text/x-python",
   "name": "python",
   "nbconvert_exporter": "python",
   "pygments_lexer": "ipython3",
   "version": "3.12.6"
  }
 },
 "nbformat": 4,
 "nbformat_minor": 2
}
