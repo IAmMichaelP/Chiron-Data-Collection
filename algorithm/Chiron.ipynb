{
 "cells": [
  {
   "cell_type": "code",
   "execution_count": 3,
   "metadata": {},
   "outputs": [
    {
     "name": "stderr",
     "output_type": "stream",
     "text": [
      "c:\\Python312\\Lib\\site-packages\\tqdm\\auto.py:21: TqdmWarning: IProgress not found. Please update jupyter and ipywidgets. See https://ipywidgets.readthedocs.io/en/stable/user_install.html\n",
      "  from .autonotebook import tqdm as notebook_tqdm\n"
     ]
    }
   ],
   "source": [
    "from transformers import DistilBertTokenizer, DistilBertForSequenceClassification\n",
    "import torch"
   ]
  },
  {
   "cell_type": "code",
   "execution_count": 4,
   "metadata": {},
   "outputs": [],
   "source": [
    "\n",
    "# Path to your model directory\n",
    "model_path = \"./distilbert_model\"\n",
    "\n",
    "# Load the tokenizer\n",
    "tokenizer = DistilBertTokenizer.from_pretrained(model_path)\n",
    "\n",
    "# Load the model\n",
    "model = DistilBertForSequenceClassification.from_pretrained(model_path)\n",
    "\n",
    "# Example: Classify a news article\n",
    "def classify_news(text, tokenizer, model, max_length=512):\n",
    "    \"\"\"\n",
    "    Classify news content as \"authentic\" or \"fake\".\n",
    "\n",
    "    Parameters:\n",
    "        text (str): The news content to classify.\n",
    "        tokenizer: The DistilBERT tokenizer.\n",
    "        model: The fine-tuned DistilBERT model.\n",
    "        max_length (int): Maximum length of the input sequence.\n",
    "\n",
    "    Returns:\n",
    "        str: \"authentic\" or \"fake\".\n",
    "    \"\"\" \n",
    "    # Preprocess the input text\n",
    "    inputs = tokenizer(\n",
    "        text,\n",
    "        truncation=True,\n",
    "        padding=True,\n",
    "        max_length=max_length,\n",
    "        return_tensors=\"pt\"  # Return PyTorch tensors\n",
    "    )\n",
    "\n",
    "    # Make prediction\n",
    "    with torch.no_grad():\n",
    "        outputs = model(**inputs)\n",
    "        logits = outputs.logits\n",
    "        predicted_class = torch.argmax(logits, dim=-1).item()\n",
    "\n",
    "    print(\"This is the value: \")\n",
    "    print(predicted_class)\n",
    "\n",
    "    # Map predicted class index to label\n",
    "    labels = [\"fake\", \"authentic\"]  # Ensure this matches your training labels\n",
    "    return labels[predicted_class]\n",
    "\n"
   ]
  },
  {
   "cell_type": "code",
   "execution_count": 11,
   "metadata": {},
   "outputs": [
    {
     "name": "stdout",
     "output_type": "stream",
     "text": [
      "This is the value: \n",
      "1\n",
      "The news is classified as: authentic\n"
     ]
    }
   ],
   "source": [
    "if __name__ == \"__main__\":\n",
    "    news_content = \"\"\"\n",
    "Transgender individuals are at an increased risk for osteoporosis and decreased bone mineral density (BMD). Transmasculine individuals are those assigned female at birth who transition to male gender (transgender men). Transfeminine individuals are those assigned male at birth who transition to female gender (transgender women). Studies report an increase in osteoporosis of 8% to 11% in transgender women compared to their cisgender male counterparts before initiating hormone replacement therapy (HRT).1 Over the past 25 years, there has been a notable rise in the prevalence of individuals undergoing HRT treatment. Not only has the number of individuals starting HRT been increasing, but the age of onset has also decreased, with a mean age of 27.5 years old.2\n",
    "\n",
    "Osteoporosis Signs and Symptoms\n",
    "Osteoporosis affects individuals of all ethnic backgrounds, with an increased incidence in the aging population. According to a systematic review and meta-analysis conducted in 2022, osteoporosis affects approximately 19.7% of the global population.3 Osteoporosis is defined as a skeletal disorder characterized by low bone mineral density leading to compromise in bone strength.4 Bone strength reflects 2 main features: bone density and bone quality.5\n",
    "\n",
    "A patient with osteoporosis may present with an abnormal spinal curvature or a loss of height but is typically asymptomatic until fractures occur.5 Fragility fractures are the primary clinical manifestation and consequence affecting morbidity and mortality seen in patients with osteoporosis.6 Many epidemiologic studies have shown that fracture risk increases as the bone mass and strength decrease. The sites of major osteoporotic fractures include the hips, vertebra, proximal humerus, and forearm.7 The most common fragility fractures attributed to osteoporosis are vertebral compression fractures, followed by hip fractures, which are typically secondary to a fall from standing height.\n",
    "\n",
    "A patient with osteoporosis may present with an abnormal spinal curvature or a loss of height but is typically asymptomatic until fractures occur.\n",
    "Effects of Hormones on BMD\n",
    "Estrogen regulates bone remodeling by influencing the production of cytokines and growth factors from osteocytes within the bone marrow.8 Estrogen also regulates the homeostasis of the activity of osteoblasts, bone-building cells, osteoclasts, and bone breakdown cells.9 Estrogen binds to osteoclast precursor receptors to decrease their formation and differentiation, leading to osteoclast destruction or apoptosis. This regulation of osteoclast activity seems to be modulated by osteoblasts, but this process is not fully understood.9\n",
    "\n",
    "Reducing circulating estrogen levels increases osteoclast activity and, therefore, bone loss.9 Not only is the balance of osteoblasts and osteoclasts altered, but the microenvironment of the osteocyte is also remodeled, leading to the increased apoptosis of osteocytes.\n",
    "\n",
    "Testosterone plays an important role in maintaining bone mineral density in men. Not only is testosterone essential for bone health, but the aromatization of testosterone into estradiol also plays a vital role in BMD maintenance.10 Androgen receptors (AR) are present on chondrocytes and osteoblasts, allowing testosterone to act directly on osteoblasts to promote bone formation. Testosterone also upregulates AR expression on osteoblasts and has indirect effects on bone growth through the mechanisms of various cytokines and growth factors.10\n",
    "\n",
    "Both sex hormones play a role in bone mineral density at normal physiologic levels. It is important to understand this foundational knowledge as it calls to question the impact of exogenous hormones or how alteration of the levels of hormones within one’s body could impact bone health (Table).8-10\n",
    "\n",
    "\n",
    "Effects of Hormone Replacement Therapy\n",
    "The hormonal therapy for transgender men is testosterone, and for transgender women is estrogen in combination with an anti-androgen. The treatments for all individuals are titrated so that their hormone levels are within the normal physiologic levels of their preferred gender. The treatment for transgender men involves various formulations of testosterone, including intramuscular injections, gels, creams, pellets, or patches. Treatment for transgender women includes estrogens in the form of oral estradiol, estrogen patches or implants, and anti-androgens such as spironolactone, finasteride, and cyproterone.11\n",
    "\n",
    "Both sex steroids, estrogen and testosterone, are important in bone formation. Hormone therapy is associated with an increase in BMD in transgender women. A systematic review and meta-analysis in 2017 by Singh-Ospina et al investigated the impact of sex steroids on the bone health of transgender patients.12 Studies evaluating adolescents and adult transgender individuals were included. Reviewers found that there is a statistically significant short-term increase in BMD in transgender women at 12 and 24 months in the lumbar spine compared to baseline, attributed to the protective effects of estrogen on bone health.12 There was no observed difference in fracture rates between transgender women compared with cisgender men, the control variable.13\n",
    "\n",
    "In transgender men, there are no statistically significant changes in BMD at 12 and 24 months after initiation of HRT compared to controls.12 However, more research is needed to investigate the long-term effects of HRT beyond 24 months on BMD in transgender men. Similarly, more data is needed on the risk of fractures in transgender patients on HRT. A prospective study investigating the fracture risk of 53 transgender men receiving testosterone found no observed osteoporotic fractures, however, the study only followed the participants for 1 year.14 HRT is a lifelong therapy, so it is essential to continue to follow individuals for more than 1 year to identify the long-term effects of this therapy on bone health.\n",
    "\n",
    "Testing Challenges in Transgender Patients\n",
    "The current recommendations by the World Health Organization do not specify those taking hormone therapy and do not offer suggestions on when to offer dual-energy x-ray absorptiometry (DEXA) based on the onset and duration of treatment.15 For transgender women, larger bone size leads to greater bone strength, meaning that a greater loss of bone is required to achieve the same DEXA score as a cisgender woman of the same age.15 This poses a diagnostic problem in the transgender population; there are no studies evaluating whether clinicians should use the sex assigned at birth or affirmed gender for the determination of T or Z score in transgender patients, which could lead to an under or overestimation of bone strength.16\n",
    "\n",
    "There are no clear guidelines on when to initiate a diagnostic modality such as DEXA in transgender individuals receiving HRT. Assuming the current guidelines of undergoing DEXA at 65 years old and with the mean age of initiating HRT being 27.5 years old, individuals undergoing hormone therapy could have evidence of osteoporosis 30 years before they are eligible for detection.7,17-18\n",
    "\n",
    "In addition to imaging, a thorough physical examination, medical history, comprehensive chemistry profile, thyroid function tests, vitamin D level, serum or urinary calcium level, and bone turnover markings should be measured. Bone turnover comprises the process of removing old bone and forming new bone.19 N-terminal propeptide of type 1 procollagen (PINP) is a marker of bone formation, and C-telopeptide of type 1 collagen (CTX-1) is a marker of bone resorption. Bone turnover markers are not used alone in diagnosis but can be used in combination with other tools or as a way to assess response to therapy.19\n",
    "\n",
    "The discussion of risk factors and screening for bone density should start early in the primary care setting. DEXA scans remain the first-line diagnostic modality; however, recommendations need to be updated to include approaches for screening and treating transgender individuals. (Figure).13\n",
    "\n",
    "\n",
    "Role of Prevention\n",
    "It is recommended that all transgender patients be encouraged to engage in vitamin D, calcium, and weight-bearing activity to ensure optimal bone health. It is encouraged that transgender patients ingest at least 1000 mg of calcium and 800 to 1000 IU of vitamin D via diet or supplementation.13 This recommendation is similar to that of cisgender individuals regarding calcium because of a 2024 study that found the values of calcium in transgender individuals to be similar to that of cisgender patients. However, the study found that vitamin D levels were significantly lower in the transgender population, leading to an increased dosage recommendation.20\n",
    "\n",
    "Regular menstrual functions are also important in early prevention.21 Specific lifestyle modifications such as smoking cessation, moderate alcohol intake, and maintaining a BMI above 20 are necessary.22 Fall prevention programs are also essential to prevent morbidity and mortality in these individuals, with the optimization of impact plus high-intensity resistance training in combination with balance exercises.22\n",
    "\n",
    "Pharmacologic Treatment\n",
    "Although lifestyle modifications and preventative strategies are first-line therapy for osteoporosis, pharmacologic management may also be necessary. In these patients, bisphosphonates (BPs) are the treatment of choice. BPs are efficacious by inhibiting the action of osteoclasts. This results in a disruption of cytoskeletal organization and an accelerated process of apoptosis in osteoclasts. Bisphosphonates remain bound to bone minerals for many years, this also allows BPs to provide pharmacological action for years after discontinuation.6\n",
    "\n",
    "Call to Action\n",
    "Most studies conducted on bone health in the transgender population have been on individuals under 50 years old. According to WHO, the diagnosis of osteoporosis using a DEXA scan is not appropriate until the age of 65. More data is needed on the long-term prevalence of osteoporosis and fracture risk in the transgender population.13 Also, there is no published data on the safety and efficacy of the use of BPs for the treatment of osteoporosis in the transgender population. Therefore, in the absence of transgender population-specific data, diagnosis, and treatment are based on recommendations for the cisgender population.13 A treatment gap exists in the management of osteoporosis. While treatment strategies are highly effective, evidence suggests that only a minority of patients with osteoporosis receive treatment.23 A 2021 study published in Osteoporos Int states that an estimated 80% to 90% of adults do not receive appropriate management for osteoporosis despite being in the secondary prevention setting.4 Not only are individuals not being treated, but many Americans are also not being properly screened and have evidence of osteoporotic fractures without ever having been diagnosed with osteoporosis.\n",
    "\"\"\"\n",
    "    # Classify the news\n",
    "    result = classify_news(news_content, tokenizer, model)\n",
    "    print(f\"The news is classified as: {result}\")"
   ]
  },
  {
   "cell_type": "markdown",
   "metadata": {},
   "source": []
  }
 ],
 "metadata": {
  "kernelspec": {
   "display_name": "Python 3",
   "language": "python",
   "name": "python3"
  },
  "language_info": {
   "codemirror_mode": {
    "name": "ipython",
    "version": 3
   },
   "file_extension": ".py",
   "mimetype": "text/x-python",
   "name": "python",
   "nbconvert_exporter": "python",
   "pygments_lexer": "ipython3",
   "version": "3.12.6"
  }
 },
 "nbformat": 4,
 "nbformat_minor": 2
}
