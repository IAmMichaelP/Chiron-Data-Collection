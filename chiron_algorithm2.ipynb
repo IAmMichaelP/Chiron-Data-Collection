{
  "cells": [
    {
      "cell_type": "code",
      "execution_count": 37,
      "metadata": {
        "colab": {
          "base_uri": "https://localhost:8080/"
        },
        "id": "dOrNq2C8CMlg",
        "outputId": "1c27ae78-89fa-470f-86cb-82a15b64c2da"
      },
      "outputs": [],
      "source": [
        "\n",
        "# Import necessary libraries\n",
        "import pandas as pd\n",
        "from sklearn.model_selection import train_test_split\n",
        "from sklearn.feature_extraction.text import CountVectorizer\n",
        "from sklearn.linear_model import LogisticRegression\n",
        "from sklearn.metrics import accuracy_score, classification_report"
      ]
    },
    {
      "cell_type": "code",
      "execution_count": 38,
      "metadata": {
        "colab": {
          "base_uri": "https://localhost:8080/"
        },
        "id": "oVDlac75Ciw3",
        "outputId": "da1b58d6-dbff-4da4-fe9c-4d4f4de8ae93"
      },
      "outputs": [
        {
          "name": "stdout",
          "output_type": "stream",
          "text": [
            "                                                link  \\\n",
            "0  https://www.eaglenews.ph/zimbabwe-reports-firs...   \n",
            "1  https://www.eaglenews.ph/cuba-faces-uphill-bat...   \n",
            "2  https://www.eaglenews.ph/thailand-says-mpox-ca...   \n",
            "3  https://www.eaglenews.ph/africa-could-start-mp...   \n",
            "4  https://www.eaglenews.ph/one-case-of-clade-2-m...   \n",
            "\n",
            "                                               title  annotation  \\\n",
            "0  Zimbabwe reports first two mpox cases of unspe...           1   \n",
            "1  Cuba faces uphill battle as Oropouche virus sp...           1   \n",
            "2  Thailand says mpox case recorded in traveller ...           1   \n",
            "3   Africa could start mpox vaccinations within days           1   \n",
            "4                                 health agency says           1   \n",
            "\n",
            "                                             content  \n",
            "0  HARARE (Reuters) – Zimbabwe has confirmed its ...  \n",
            "1  HAVANA (Reuters) – Cuban health authorities la...  \n",
            "2  -Thailand has detected an mpox case in a Europ...  \n",
            "3  By Anait MiridzhanianThe Democratic Republic o...  \n",
            "4  One case of the mpox virus has been detected i...  \n"
          ]
        }
      ],
      "source": [
        "data = r\"C:\\Users\\agaro\\Documents\\GitHub\\Chiron\\chiron_content.csv\"\n",
        "\n",
        "df = pd.read_csv(data)\n",
        "print(df.head())"
      ]
    },
    {
      "cell_type": "code",
      "execution_count": 39,
      "metadata": {
        "colab": {
          "base_uri": "https://localhost:8080/"
        },
        "id": "Xj-W3bm3EEqI",
        "outputId": "bb95f929-7914-4a5c-8e79-092949cba4fc"
      },
      "outputs": [
        {
          "name": "stdout",
          "output_type": "stream",
          "text": [
            "Indices with missing or empty content: Index([1222, 1461, 1466, 1473, 1474, 1729, 2201, 2202, 2203, 2204, 3042, 3169,\n",
            "       3187, 3194, 3258, 3273],\n",
            "      dtype='int64')\n",
            "First file rows: 3384\n"
          ]
        }
      ],
      "source": [
        "import string\n",
        "string.punctuation\n",
        "\n",
        "# Checks the contents if there are empty or missing values\n",
        "\n",
        "uncleanContents = df[df['content'].isna() | (df['content'].str.strip() == '')].index\n",
        "\n",
        "# Print the missing/empty indices\n",
        "print(f'Indices with missing or empty content: {uncleanContents}')\n",
        "# print('empty content example: ' + (df['content'])[217])\n",
        "# Fill NaN values with empty strings\n",
        "df['content'].fillna('', inplace=True)\n",
        "\n",
        "print(f\"First file rows: {len(df)}\")"
      ]
    },
    {
      "cell_type": "markdown",
      "metadata": {
        "id": "7xNEC6tMGI8q"
      },
      "source": [
        "First step we are doing is data cleaning and preprocessing"
      ]
    },
    {
      "cell_type": "code",
      "execution_count": 40,
      "metadata": {
        "colab": {
          "base_uri": "https://localhost:8080/",
          "height": 293
        },
        "id": "QyopONrIGPNK",
        "outputId": "87950019-5dcf-4290-bbd1-34b18af4af8d"
      },
      "outputs": [
        {
          "data": {
            "text/html": [
              "<div>\n",
              "<style scoped>\n",
              "    .dataframe tbody tr th:only-of-type {\n",
              "        vertical-align: middle;\n",
              "    }\n",
              "\n",
              "    .dataframe tbody tr th {\n",
              "        vertical-align: top;\n",
              "    }\n",
              "\n",
              "    .dataframe thead th {\n",
              "        text-align: right;\n",
              "    }\n",
              "</style>\n",
              "<table border=\"1\" class=\"dataframe\">\n",
              "  <thead>\n",
              "    <tr style=\"text-align: right;\">\n",
              "      <th></th>\n",
              "      <th>link</th>\n",
              "      <th>title</th>\n",
              "      <th>annotation</th>\n",
              "      <th>content</th>\n",
              "      <th>clean_msg</th>\n",
              "    </tr>\n",
              "  </thead>\n",
              "  <tbody>\n",
              "    <tr>\n",
              "      <th>0</th>\n",
              "      <td>https://www.eaglenews.ph/zimbabwe-reports-firs...</td>\n",
              "      <td>Zimbabwe reports first two mpox cases of unspe...</td>\n",
              "      <td>1</td>\n",
              "      <td>HARARE (Reuters) – Zimbabwe has confirmed its ...</td>\n",
              "      <td>HARARE Reuters – Zimbabwe has confirmed its fi...</td>\n",
              "    </tr>\n",
              "    <tr>\n",
              "      <th>1</th>\n",
              "      <td>https://www.eaglenews.ph/cuba-faces-uphill-bat...</td>\n",
              "      <td>Cuba faces uphill battle as Oropouche virus sp...</td>\n",
              "      <td>1</td>\n",
              "      <td>HAVANA (Reuters) – Cuban health authorities la...</td>\n",
              "      <td>HAVANA Reuters – Cuban health authorities laun...</td>\n",
              "    </tr>\n",
              "    <tr>\n",
              "      <th>2</th>\n",
              "      <td>https://www.eaglenews.ph/thailand-says-mpox-ca...</td>\n",
              "      <td>Thailand says mpox case recorded in traveller ...</td>\n",
              "      <td>1</td>\n",
              "      <td>-Thailand has detected an mpox case in a Europ...</td>\n",
              "      <td>Thailand has detected an mpox case in a Europe...</td>\n",
              "    </tr>\n",
              "    <tr>\n",
              "      <th>3</th>\n",
              "      <td>https://www.eaglenews.ph/africa-could-start-mp...</td>\n",
              "      <td>Africa could start mpox vaccinations within days</td>\n",
              "      <td>1</td>\n",
              "      <td>By Anait MiridzhanianThe Democratic Republic o...</td>\n",
              "      <td>By Anait MiridzhanianThe Democratic Republic o...</td>\n",
              "    </tr>\n",
              "    <tr>\n",
              "      <th>4</th>\n",
              "      <td>https://www.eaglenews.ph/one-case-of-clade-2-m...</td>\n",
              "      <td>health agency says</td>\n",
              "      <td>1</td>\n",
              "      <td>One case of the mpox virus has been detected i...</td>\n",
              "      <td>One case of the mpox virus has been detected i...</td>\n",
              "    </tr>\n",
              "  </tbody>\n",
              "</table>\n",
              "</div>"
            ],
            "text/plain": [
              "                                                link  \\\n",
              "0  https://www.eaglenews.ph/zimbabwe-reports-firs...   \n",
              "1  https://www.eaglenews.ph/cuba-faces-uphill-bat...   \n",
              "2  https://www.eaglenews.ph/thailand-says-mpox-ca...   \n",
              "3  https://www.eaglenews.ph/africa-could-start-mp...   \n",
              "4  https://www.eaglenews.ph/one-case-of-clade-2-m...   \n",
              "\n",
              "                                               title  annotation  \\\n",
              "0  Zimbabwe reports first two mpox cases of unspe...           1   \n",
              "1  Cuba faces uphill battle as Oropouche virus sp...           1   \n",
              "2  Thailand says mpox case recorded in traveller ...           1   \n",
              "3   Africa could start mpox vaccinations within days           1   \n",
              "4                                 health agency says           1   \n",
              "\n",
              "                                             content  \\\n",
              "0  HARARE (Reuters) – Zimbabwe has confirmed its ...   \n",
              "1  HAVANA (Reuters) – Cuban health authorities la...   \n",
              "2  -Thailand has detected an mpox case in a Europ...   \n",
              "3  By Anait MiridzhanianThe Democratic Republic o...   \n",
              "4  One case of the mpox virus has been detected i...   \n",
              "\n",
              "                                           clean_msg  \n",
              "0  HARARE Reuters – Zimbabwe has confirmed its fi...  \n",
              "1  HAVANA Reuters – Cuban health authorities laun...  \n",
              "2  Thailand has detected an mpox case in a Europe...  \n",
              "3  By Anait MiridzhanianThe Democratic Republic o...  \n",
              "4  One case of the mpox virus has been detected i...  "
            ]
          },
          "execution_count": 40,
          "metadata": {},
          "output_type": "execute_result"
        }
      ],
      "source": [
        "#defining the function to remove punctuation\n",
        "def remove_punctuation(text):\n",
        "    punctuationfree=\"\".join([i for i in text if i not in string.punctuation])\n",
        "    return punctuationfree\n",
        "#storing the puntuation free text\n",
        "df['clean_msg']= df['content'].apply(lambda x:remove_punctuation(x))\n",
        "df.head()"
      ]
    },
    {
      "cell_type": "code",
      "execution_count": 41,
      "metadata": {
        "colab": {
          "base_uri": "https://localhost:8080/",
          "height": 310
        },
        "id": "0J7b41LTGFem",
        "outputId": "104a32b5-cc8e-401b-8ac2-f9c03c5b71fd"
      },
      "outputs": [
        {
          "data": {
            "text/html": [
              "<div>\n",
              "<style scoped>\n",
              "    .dataframe tbody tr th:only-of-type {\n",
              "        vertical-align: middle;\n",
              "    }\n",
              "\n",
              "    .dataframe tbody tr th {\n",
              "        vertical-align: top;\n",
              "    }\n",
              "\n",
              "    .dataframe thead th {\n",
              "        text-align: right;\n",
              "    }\n",
              "</style>\n",
              "<table border=\"1\" class=\"dataframe\">\n",
              "  <thead>\n",
              "    <tr style=\"text-align: right;\">\n",
              "      <th></th>\n",
              "      <th>link</th>\n",
              "      <th>title</th>\n",
              "      <th>annotation</th>\n",
              "      <th>content</th>\n",
              "      <th>clean_msg</th>\n",
              "      <th>msg_lower</th>\n",
              "    </tr>\n",
              "  </thead>\n",
              "  <tbody>\n",
              "    <tr>\n",
              "      <th>0</th>\n",
              "      <td>https://www.eaglenews.ph/zimbabwe-reports-firs...</td>\n",
              "      <td>Zimbabwe reports first two mpox cases of unspe...</td>\n",
              "      <td>1</td>\n",
              "      <td>HARARE (Reuters) – Zimbabwe has confirmed its ...</td>\n",
              "      <td>HARARE Reuters – Zimbabwe has confirmed its fi...</td>\n",
              "      <td>harare reuters – zimbabwe has confirmed its fi...</td>\n",
              "    </tr>\n",
              "    <tr>\n",
              "      <th>1</th>\n",
              "      <td>https://www.eaglenews.ph/cuba-faces-uphill-bat...</td>\n",
              "      <td>Cuba faces uphill battle as Oropouche virus sp...</td>\n",
              "      <td>1</td>\n",
              "      <td>HAVANA (Reuters) – Cuban health authorities la...</td>\n",
              "      <td>HAVANA Reuters – Cuban health authorities laun...</td>\n",
              "      <td>havana reuters – cuban health authorities laun...</td>\n",
              "    </tr>\n",
              "    <tr>\n",
              "      <th>2</th>\n",
              "      <td>https://www.eaglenews.ph/thailand-says-mpox-ca...</td>\n",
              "      <td>Thailand says mpox case recorded in traveller ...</td>\n",
              "      <td>1</td>\n",
              "      <td>-Thailand has detected an mpox case in a Europ...</td>\n",
              "      <td>Thailand has detected an mpox case in a Europe...</td>\n",
              "      <td>thailand has detected an mpox case in a europe...</td>\n",
              "    </tr>\n",
              "    <tr>\n",
              "      <th>3</th>\n",
              "      <td>https://www.eaglenews.ph/africa-could-start-mp...</td>\n",
              "      <td>Africa could start mpox vaccinations within days</td>\n",
              "      <td>1</td>\n",
              "      <td>By Anait MiridzhanianThe Democratic Republic o...</td>\n",
              "      <td>By Anait MiridzhanianThe Democratic Republic o...</td>\n",
              "      <td>by anait miridzhanianthe democratic republic o...</td>\n",
              "    </tr>\n",
              "    <tr>\n",
              "      <th>4</th>\n",
              "      <td>https://www.eaglenews.ph/one-case-of-clade-2-m...</td>\n",
              "      <td>health agency says</td>\n",
              "      <td>1</td>\n",
              "      <td>One case of the mpox virus has been detected i...</td>\n",
              "      <td>One case of the mpox virus has been detected i...</td>\n",
              "      <td>one case of the mpox virus has been detected i...</td>\n",
              "    </tr>\n",
              "  </tbody>\n",
              "</table>\n",
              "</div>"
            ],
            "text/plain": [
              "                                                link  \\\n",
              "0  https://www.eaglenews.ph/zimbabwe-reports-firs...   \n",
              "1  https://www.eaglenews.ph/cuba-faces-uphill-bat...   \n",
              "2  https://www.eaglenews.ph/thailand-says-mpox-ca...   \n",
              "3  https://www.eaglenews.ph/africa-could-start-mp...   \n",
              "4  https://www.eaglenews.ph/one-case-of-clade-2-m...   \n",
              "\n",
              "                                               title  annotation  \\\n",
              "0  Zimbabwe reports first two mpox cases of unspe...           1   \n",
              "1  Cuba faces uphill battle as Oropouche virus sp...           1   \n",
              "2  Thailand says mpox case recorded in traveller ...           1   \n",
              "3   Africa could start mpox vaccinations within days           1   \n",
              "4                                 health agency says           1   \n",
              "\n",
              "                                             content  \\\n",
              "0  HARARE (Reuters) – Zimbabwe has confirmed its ...   \n",
              "1  HAVANA (Reuters) – Cuban health authorities la...   \n",
              "2  -Thailand has detected an mpox case in a Europ...   \n",
              "3  By Anait MiridzhanianThe Democratic Republic o...   \n",
              "4  One case of the mpox virus has been detected i...   \n",
              "\n",
              "                                           clean_msg  \\\n",
              "0  HARARE Reuters – Zimbabwe has confirmed its fi...   \n",
              "1  HAVANA Reuters – Cuban health authorities laun...   \n",
              "2  Thailand has detected an mpox case in a Europe...   \n",
              "3  By Anait MiridzhanianThe Democratic Republic o...   \n",
              "4  One case of the mpox virus has been detected i...   \n",
              "\n",
              "                                           msg_lower  \n",
              "0  harare reuters – zimbabwe has confirmed its fi...  \n",
              "1  havana reuters – cuban health authorities laun...  \n",
              "2  thailand has detected an mpox case in a europe...  \n",
              "3  by anait miridzhanianthe democratic republic o...  \n",
              "4  one case of the mpox virus has been detected i...  "
            ]
          },
          "execution_count": 41,
          "metadata": {},
          "output_type": "execute_result"
        }
      ],
      "source": [
        "# standardization: making all letters into lowercase\n",
        "df['msg_lower']= df['clean_msg'].apply(lambda x: x.lower())\n",
        "df.head()"
      ]
    },
    {
      "cell_type": "code",
      "execution_count": 42,
      "metadata": {
        "colab": {
          "base_uri": "https://localhost:8080/"
        },
        "id": "2oEikEsgcuEa",
        "outputId": "afaf0e8a-81f1-4098-d521-f1c41c33dbf3"
      },
      "outputs": [
        {
          "name": "stderr",
          "output_type": "stream",
          "text": [
            "[nltk_data] Downloading package punkt to\n",
            "[nltk_data]     C:\\Users\\agaro\\AppData\\Roaming\\nltk_data...\n",
            "[nltk_data]   Package punkt is already up-to-date!\n",
            "[nltk_data] Downloading package punkt_tab to\n",
            "[nltk_data]     C:\\Users\\agaro\\AppData\\Roaming\\nltk_data...\n",
            "[nltk_data]   Package punkt_tab is already up-to-date!\n"
          ]
        }
      ],
      "source": [
        "import re\n",
        "import nltk\n",
        "nltk.download('punkt')\n",
        "nltk.download('punkt_tab')\n",
        "from nltk.tokenize import word_tokenize"
      ]
    },
    {
      "cell_type": "code",
      "execution_count": 43,
      "metadata": {
        "colab": {
          "base_uri": "https://localhost:8080/"
        },
        "id": "MGS7SbZ3YP2A",
        "outputId": "37339f09-274e-4460-d85c-d0692e09ed7c"
      },
      "outputs": [
        {
          "name": "stdout",
          "output_type": "stream",
          "text": [
            "['havana', 'reuters', '–', 'cuban', 'health', 'authorities', 'launched', 'smallscale', 'fumigation', 'efforts', 'in', 'havana', 'on', 'friday', 'to', 'fight', 'the', 'spread', 'of', 'the', 'oropouche', 'virus', 'but', 'a', 'rainy', 'caribbean', 'summer', 'fuel', 'shortages', 'and', 'growing', 'roadside', 'trash', 'heaps', 'are', 'complicating', 'those', 'efforts', 'workers', 'and', 'officials', 'saidmore', 'than', '500', 'cases', 'of', 'the', 'virus', 'have', 'been', 'registered', 'since', 'may', 'when', 'the', 'disease', 'was', 'first', 'detected', 'in', 'fareastern', 'cuba', 'health', 'officials', 'said', 'this', 'weekthe', 'virus', 'also', 'known', 'as', 'sloth', 'fever', 'is', 'transmitted', 'by', 'the', 'bite', 'of', 'mosquitoes', 'and', 'midges', 'and', 'has', 'spread', 'quickly', 'across', 'all', 'of', 'the', 'country', '’', 's', 'provinces', 'and', 'major', 'cities', 'including', 'the', 'capital', 'havana', 'patients', 'complain', 'of', 'fever', 'body', 'aches', 'and', 'nausea', 'though', 'the', 'disease', 'is', 'rarely', 'fatalfumigation', 'workers', 'using', 'handheld', 'gaspowered', 'blowers', 'fired', 'smoke', 'into', 'dark', 'corners', 'and', 'alleyways', 'in', 'parts', 'of', 'havana', 'on', 'friday', 'though', 'those', 'efforts', 'have', 'been', 'stymied', 'in', 'part', 'by', 'limited', 'resources', '“', 'in', 'the', 'past', 'all', 'the', 'blocks', 'were', 'fumigated', 'every', 'week', '…', 'but', 'now', 'due', 'to', 'fuel', 'shortages', 'they', 'focus', 'on', 'specific', 'cases', 'where', 'fever', 'outbreaks', 'occur', '”', 'said', 'havana', 'fumigation', 'worker', 'luís', 'aguilarus', 'health', 'authorities', 'earlier', 'this', 'week', 'said', '21', 'us', 'citizens', 'who', 'had', 'visited', 'cuba', 'during', 'the', 'summer', 'months', 'returned', 'home', 'with', 'cases', 'of', 'oropouchecuba', 'has', 'reported', 'relatively', 'few', 'cases', 'compared', 'to', 'other', 'countries', 'including', 'brazil', 'where', 'the', 'virus', 'is', 'also', 'present', 'and', 'no', 'fatalitiesbut', 'economic', 'crisis', 'and', 'shortages', 'of', 'fuel', 'food', 'and', 'medicine', 'have', 'hampered', 'efforts', 'to', 'control', 'the', 'spread', 'of', 'such', 'mosquitoborne', 'illnesses', 'as', 'oropouche', 'and', 'dengue', 'fever', 'authorities', 'have', 'saidfrequent', 'power', 'outages', 'mean', 'many', 'sleep', 'with', 'windows', 'open', 'during', 'the', 'hot', 'caribbean', 'summer', 'and', 'few', 'cubans', 'have', 'access', 'to', 'insect', 'repellenttrash', 'heaps', 'have', 'grown', 'in', 'size', 'on', 'street', 'corners', 'which', 'combined', 'with', 'summer', 'rains', 'provide', 'ample', 'breeding', 'grounds', 'for', 'biting', 'insects', 'authorities', 'saidthere', 'are', 'no', 'specific', 'treatments', 'or', 'vaccines', 'available', 'for', 'oropouchereporting', 'by', 'carlos', 'carrillo', 'and', 'alien', 'fernandez', 'editing', 'by', 'dave', 'sherwood', 'and', 'stephen', 'coates']\n"
          ]
        }
      ],
      "source": [
        "#defining function for tokenization\n",
        "\n",
        "#applying function to the column\n",
        "df['msg_tokenized'] = df['msg_lower'].apply(lambda x: word_tokenize(x))\n",
        "\n",
        "print(df['msg_tokenized'][1])"
      ]
    },
    {
      "cell_type": "code",
      "execution_count": 44,
      "metadata": {
        "colab": {
          "base_uri": "https://localhost:8080/"
        },
        "id": "Dq18b2HwanmU",
        "outputId": "e44394da-2198-4d13-a9b5-0699b2d66b9f"
      },
      "outputs": [
        {
          "name": "stderr",
          "output_type": "stream",
          "text": [
            "[nltk_data] Downloading package stopwords to\n",
            "[nltk_data]     C:\\Users\\agaro\\AppData\\Roaming\\nltk_data...\n",
            "[nltk_data]   Package stopwords is already up-to-date!\n"
          ]
        }
      ],
      "source": [
        "#importing nlp library\n",
        "import nltk\n",
        "nltk.download('stopwords')\n",
        "from nltk.corpus import stopwords\n",
        "\n",
        "# stop_words = set(stopwords.words('english'))\n",
        "#Stop words present in the library\n",
        "stopwords = nltk.corpus.stopwords.words('english')"
      ]
    },
    {
      "cell_type": "code",
      "execution_count": 45,
      "metadata": {
        "colab": {
          "base_uri": "https://localhost:8080/"
        },
        "id": "d2xFhCdW7K87",
        "outputId": "1f6085bb-6938-41a5-97d3-68f1cc483895"
      },
      "outputs": [
        {
          "name": "stderr",
          "output_type": "stream",
          "text": [
            "[nltk_data] Downloading package stopwords to\n",
            "[nltk_data]     C:\\Users\\agaro\\AppData\\Roaming\\nltk_data...\n",
            "[nltk_data]   Package stopwords is already up-to-date!\n"
          ]
        }
      ],
      "source": [
        "import nltk\n",
        "# Download stopwords if you haven't already\n",
        "nltk.download('stopwords')\n",
        "\n",
        "# Initialize stopwords (use only ONE of these lines)\n",
        "stopwords = set(nltk.corpus.stopwords.words('english'))\n",
        "\n",
        "# Add custom stopwords\n",
        "# custom_stopwords = [\"coronavirus\", \"covid19\", \"people\", \"virus\", \"health\", \"china\", \"chinese\", \"new\", \"us\", \"vaccine\", \"wuhan\", \"video\", \"outbreak\", \"hospital\", \"says\", \"novel\"]\n",
        "# stopwords = stopwords | set(custom_stopwords)\n",
        "\n",
        "# Add custom stopwords\n",
        "custom_stopwords = [\"'\", '\"', '—', '“', '”', '’', '––', '–', 'also', 'said', 'human', 'people', 'health']\n",
        "stopwords = stopwords | set(custom_stopwords)"
      ]
    },
    {
      "cell_type": "code",
      "execution_count": 46,
      "metadata": {
        "colab": {
          "base_uri": "https://localhost:8080/"
        },
        "id": "48_RV8S0gy9w",
        "outputId": "2e4158ea-b793-47ad-aa00-9fe895c02913"
      },
      "outputs": [
        {
          "name": "stdout",
          "output_type": "stream",
          "text": [
            "['havana', 'reuters', 'cuban', 'authorities', 'launched', 'smallscale', 'fumigation', 'efforts', 'havana', 'friday', 'fight', 'spread', 'oropouche', 'virus', 'rainy', 'caribbean', 'summer', 'fuel', 'shortages', 'growing', 'roadside', 'trash', 'heaps', 'complicating', 'efforts', 'workers', 'officials', 'saidmore', '500', 'cases', 'virus', 'registered', 'since', 'may', 'disease', 'first', 'detected', 'fareastern', 'cuba', 'officials', 'weekthe', 'virus', 'known', 'sloth', 'fever', 'transmitted', 'bite', 'mosquitoes', 'midges', 'spread', 'quickly', 'across', 'country', 'provinces', 'major', 'cities', 'including', 'capital', 'havana', 'patients', 'complain', 'fever', 'body', 'aches', 'nausea', 'though', 'disease', 'rarely', 'fatalfumigation', 'workers', 'using', 'handheld', 'gaspowered', 'blowers', 'fired', 'smoke', 'dark', 'corners', 'alleyways', 'parts', 'havana', 'friday', 'though', 'efforts', 'stymied', 'part', 'limited', 'resources', 'past', 'blocks', 'fumigated', 'every', 'week', '…', 'due', 'fuel', 'shortages', 'focus', 'specific', 'cases', 'fever', 'outbreaks', 'occur', 'havana', 'fumigation', 'worker', 'luís', 'aguilarus', 'authorities', 'earlier', 'week', '21', 'us', 'citizens', 'visited', 'cuba', 'summer', 'months', 'returned', 'home', 'cases', 'oropouchecuba', 'reported', 'relatively', 'cases', 'compared', 'countries', 'including', 'brazil', 'virus', 'present', 'fatalitiesbut', 'economic', 'crisis', 'shortages', 'fuel', 'food', 'medicine', 'hampered', 'efforts', 'control', 'spread', 'mosquitoborne', 'illnesses', 'oropouche', 'dengue', 'fever', 'authorities', 'saidfrequent', 'power', 'outages', 'mean', 'many', 'sleep', 'windows', 'open', 'hot', 'caribbean', 'summer', 'cubans', 'access', 'insect', 'repellenttrash', 'heaps', 'grown', 'size', 'street', 'corners', 'combined', 'summer', 'rains', 'provide', 'ample', 'breeding', 'grounds', 'biting', 'insects', 'authorities', 'saidthere', 'specific', 'treatments', 'vaccines', 'available', 'oropouchereporting', 'carlos', 'carrillo', 'alien', 'fernandez', 'editing', 'dave', 'sherwood', 'stephen', 'coates']\n"
          ]
        }
      ],
      "source": [
        "\n",
        "# Add custom stopwords\n",
        "# custom_stopwords = [\"coronavirus\", \"covid19\", \"people\", \"virus\", \"health\", \"china\", \"chinese\", \"new\", \"us\", \"vaccine\", \"wuhan\", \"video\", \"outbreak\", \"hospital\", \"says\", \"novel\"]  # Add your custom stopwords here\n",
        "# stopwords = stopwords.union(custom_stopwords)\n",
        "# stopwords = set(stopwords).union(custom_stopwords)\n",
        "# stopwords = set(stopwords) | set(custom_stopwords)\n",
        "# stopwords = set(stopwords) | set(custom_stopwords)\n",
        "# stopwords = stopwords | set(custom_stopwords)\n",
        "\n",
        "# defining functions for removing stopwords\n",
        "def remove_stopwords(text):\n",
        "    output= [i for i in text if i not in stopwords]\n",
        "    return output\n",
        "\n",
        "df['no_stopwords']= df['msg_tokenized'].apply(lambda x:remove_stopwords(x))\n",
        "print(df['no_stopwords'][1])"
      ]
    },
    {
      "cell_type": "code",
      "execution_count": 47,
      "metadata": {
        "id": "NzkX0TnehPUJ"
      },
      "outputs": [],
      "source": [
        "from nltk.stem.porter import PorterStemmer\n",
        "#defining the object for stemming\n",
        "porter_stemmer = PorterStemmer()"
      ]
    },
    {
      "cell_type": "code",
      "execution_count": 48,
      "metadata": {
        "colab": {
          "base_uri": "https://localhost:8080/"
        },
        "id": "0Xtnfhr_hnYm",
        "outputId": "5bea9c1d-cc12-47dc-c56f-2929cb55ac58"
      },
      "outputs": [
        {
          "name": "stdout",
          "output_type": "stream",
          "text": [
            "['havana', 'reuter', 'cuban', 'author', 'launch', 'smallscal', 'fumig', 'effort', 'havana', 'friday', 'fight', 'spread', 'oropouch', 'viru', 'raini', 'caribbean', 'summer', 'fuel', 'shortag', 'grow', 'roadsid', 'trash', 'heap', 'complic', 'effort', 'worker', 'offici', 'saidmor', '500', 'case', 'viru', 'regist', 'sinc', 'may', 'diseas', 'first', 'detect', 'fareastern', 'cuba', 'offici', 'weekth', 'viru', 'known', 'sloth', 'fever', 'transmit', 'bite', 'mosquito', 'midg', 'spread', 'quickli', 'across', 'countri', 'provinc', 'major', 'citi', 'includ', 'capit', 'havana', 'patient', 'complain', 'fever', 'bodi', 'ach', 'nausea', 'though', 'diseas', 'rare', 'fatalfumig', 'worker', 'use', 'handheld', 'gaspow', 'blower', 'fire', 'smoke', 'dark', 'corner', 'alleyway', 'part', 'havana', 'friday', 'though', 'effort', 'stymi', 'part', 'limit', 'resourc', 'past', 'block', 'fumig', 'everi', 'week', '…', 'due', 'fuel', 'shortag', 'focu', 'specif', 'case', 'fever', 'outbreak', 'occur', 'havana', 'fumig', 'worker', 'luí', 'aguilaru', 'author', 'earlier', 'week', '21', 'us', 'citizen', 'visit', 'cuba', 'summer', 'month', 'return', 'home', 'case', 'oropouchecuba', 'report', 'rel', 'case', 'compar', 'countri', 'includ', 'brazil', 'viru', 'present', 'fatalitiesbut', 'econom', 'crisi', 'shortag', 'fuel', 'food', 'medicin', 'hamper', 'effort', 'control', 'spread', 'mosquitoborn', 'ill', 'oropouch', 'dengu', 'fever', 'author', 'saidfrequ', 'power', 'outag', 'mean', 'mani', 'sleep', 'window', 'open', 'hot', 'caribbean', 'summer', 'cuban', 'access', 'insect', 'repellenttrash', 'heap', 'grown', 'size', 'street', 'corner', 'combin', 'summer', 'rain', 'provid', 'ampl', 'breed', 'ground', 'bite', 'insect', 'author', 'saidther', 'specif', 'treatment', 'vaccin', 'avail', 'oropouchereport', 'carlo', 'carrillo', 'alien', 'fernandez', 'edit', 'dave', 'sherwood', 'stephen', 'coat']\n"
          ]
        }
      ],
      "source": [
        "#defining a function for stemming\n",
        "def stemming(text):\n",
        "  stem_text = [porter_stemmer.stem(word) for word in text]\n",
        "  return stem_text\n",
        "\n",
        "# consideration: the results of stemming here is not human readable, but according to chatgpt: However, if your goal is purely text classification (like Naive Bayes or TF-IDF), these changes may not be a problem, as long as your model learns meaningful patterns.\n",
        "df['msg_stemmed'] = df['no_stopwords'].apply(lambda x: stemming(x))\n",
        "print(df['msg_stemmed'][1])"
      ]
    },
    {
      "cell_type": "code",
      "execution_count": 49,
      "metadata": {
        "colab": {
          "base_uri": "https://localhost:8080/"
        },
        "id": "1b_t032sji6z",
        "outputId": "65e81364-0204-4d0a-e1d2-63a5b940cf33"
      },
      "outputs": [
        {
          "name": "stderr",
          "output_type": "stream",
          "text": [
            "[nltk_data] Downloading package wordnet to\n",
            "[nltk_data]     C:\\Users\\agaro\\AppData\\Roaming\\nltk_data...\n",
            "[nltk_data]   Package wordnet is already up-to-date!\n"
          ]
        }
      ],
      "source": [
        "from nltk.stem import WordNetLemmatizer\n",
        "nltk.download('wordnet')\n",
        "#defining the object for Lemmatization\n",
        "wordnet_lemmatizer = WordNetLemmatizer()"
      ]
    },
    {
      "cell_type": "code",
      "execution_count": 50,
      "metadata": {
        "colab": {
          "base_uri": "https://localhost:8080/"
        },
        "id": "voxemsG8jtz8",
        "outputId": "25ee7663-5f6c-48a1-c60e-942b12fa67a9"
      },
      "outputs": [
        {
          "name": "stdout",
          "output_type": "stream",
          "text": [
            "['havana', 'reuters', 'cuban', 'authority', 'launched', 'smallscale', 'fumigation', 'effort', 'havana', 'friday', 'fight', 'spread', 'oropouche', 'virus', 'rainy', 'caribbean', 'summer', 'fuel', 'shortage', 'growing', 'roadside', 'trash', 'heap', 'complicating', 'effort', 'worker', 'official', 'saidmore', '500', 'case', 'virus', 'registered', 'since', 'may', 'disease', 'first', 'detected', 'fareastern', 'cuba', 'official', 'weekthe', 'virus', 'known', 'sloth', 'fever', 'transmitted', 'bite', 'mosquito', 'midge', 'spread', 'quickly', 'across', 'country', 'province', 'major', 'city', 'including', 'capital', 'havana', 'patient', 'complain', 'fever', 'body', 'ache', 'nausea', 'though', 'disease', 'rarely', 'fatalfumigation', 'worker', 'using', 'handheld', 'gaspowered', 'blower', 'fired', 'smoke', 'dark', 'corner', 'alleyway', 'part', 'havana', 'friday', 'though', 'effort', 'stymied', 'part', 'limited', 'resource', 'past', 'block', 'fumigated', 'every', 'week', '…', 'due', 'fuel', 'shortage', 'focus', 'specific', 'case', 'fever', 'outbreak', 'occur', 'havana', 'fumigation', 'worker', 'luís', 'aguilarus', 'authority', 'earlier', 'week', '21', 'u', 'citizen', 'visited', 'cuba', 'summer', 'month', 'returned', 'home', 'case', 'oropouchecuba', 'reported', 'relatively', 'case', 'compared', 'country', 'including', 'brazil', 'virus', 'present', 'fatalitiesbut', 'economic', 'crisis', 'shortage', 'fuel', 'food', 'medicine', 'hampered', 'effort', 'control', 'spread', 'mosquitoborne', 'illness', 'oropouche', 'dengue', 'fever', 'authority', 'saidfrequent', 'power', 'outage', 'mean', 'many', 'sleep', 'window', 'open', 'hot', 'caribbean', 'summer', 'cuban', 'access', 'insect', 'repellenttrash', 'heap', 'grown', 'size', 'street', 'corner', 'combined', 'summer', 'rain', 'provide', 'ample', 'breeding', 'ground', 'biting', 'insect', 'authority', 'saidthere', 'specific', 'treatment', 'vaccine', 'available', 'oropouchereporting', 'carlos', 'carrillo', 'alien', 'fernandez', 'editing', 'dave', 'sherwood', 'stephen', 'coates']\n"
          ]
        }
      ],
      "source": [
        "#defining the function for lemmatization\n",
        "def lemmatizer(text):\n",
        "  lemm_text = [wordnet_lemmatizer.lemmatize(word) for word in text]\n",
        "  return lemm_text\n",
        "\n",
        "df['msg_lemmatized'] = df['no_stopwords'].apply(lambda x:lemmatizer(x))\n",
        "print(df['msg_lemmatized'][1])"
      ]
    },
    {
      "cell_type": "markdown",
      "metadata": {
        "id": "ShFtzOJymjJU"
      },
      "source": [
        "Second step we will have is processing"
      ]
    },
    {
      "cell_type": "code",
      "execution_count": 51,
      "metadata": {
        "id": "oMcS6sLNmENm"
      },
      "outputs": [],
      "source": [
        "from sklearn.model_selection import train_test_split\n",
        "from sklearn.feature_extraction.text import CountVectorizer\n",
        "from sklearn.naive_bayes import MultinomialNB\n",
        "from sklearn.svm import LinearSVC\n",
        "from sklearn.metrics import accuracy_score, classification_report\n",
        "import pandas as pd\n",
        "\n",
        "# Assuming df contains 'content' and 'annotation' columns\n",
        "def prepare_data(df):\n",
        "    # Process content column\n",
        "    X = df['msg_lemmatized'].apply(lambda tokens: \" \".join(tokens) if isinstance(tokens, list) else tokens)\n",
        "    y = df['annotation']\n",
        "\n",
        "    print(X[1])\n",
        "\n",
        "    # Split data\n",
        "    X_train, X_test, y_train, y_test = train_test_split(X, y, test_size=0.2, random_state=42)\n",
        "\n",
        "    # Vectorize text data\n",
        "    vectorizer = CountVectorizer()\n",
        "    X_train_vec = vectorizer.fit_transform(X_train)\n",
        "    X_test_vec = vectorizer.transform(X_test)\n",
        "\n",
        "    return X_train_vec, X_test_vec, y_train, y_test, vectorizer\n",
        "\n",
        "def train_naive_bayes(X_train_vec, y_train):\n",
        "    # Initialize and train Naive Bayes classifier\n",
        "    nb_model = MultinomialNB()\n",
        "    nb_model.fit(X_train_vec, y_train)\n",
        "    return nb_model\n",
        "\n",
        "def train_svm(X_train_vec, y_train):\n",
        "    # Initialize and train SVM classifier\n",
        "    # Using LinearSVC for better performance with text data\n",
        "    svm_model = LinearSVC(random_state=42)\n",
        "    svm_model.fit(X_train_vec, y_train)\n",
        "    return svm_model\n",
        "\n",
        "def train_logistic_regression(X_train_vec, y_train):\n",
        "    # Train Logistic Regression\n",
        "    logistic_model = LogisticRegression()\n",
        "    logistic_model.fit(X_train_vec, y_train)\n",
        "    return logistic_model\n",
        "\n",
        "def evaluate_model(model, X_test_vec, y_test, model_name):\n",
        "    # Make predictions\n",
        "    y_pred = model.predict(X_test_vec)\n",
        "\n",
        "    # Calculate and print metrics\n",
        "    accuracy = accuracy_score(y_test, y_pred)\n",
        "    print(f'\\n{model_name} Results:')\n",
        "    print(f'Accuracy: {accuracy * 100:.2f}%')\n",
        "    print('\\nClassification Report:')\n",
        "    print(classification_report(y_test, y_pred))\n",
        "\n",
        "    return y_pred"
      ]
    },
    {
      "cell_type": "code",
      "execution_count": 52,
      "metadata": {
        "id": "r9OUyJHVnD_l"
      },
      "outputs": [],
      "source": [
        "# Main execution\n",
        "from sklearn.model_selection import cross_val_score\n",
        "\n",
        "# Main execution with cross-validation and validation split\n",
        "def main(df):\n",
        "    # Prepare data\n",
        "    X_train_vec, X_test_vec, y_train, y_test, vectorizer = prepare_data(df)\n",
        "\n",
        "   # Cross-validation for Naive Bayes\n",
        "    nb_model = train_naive_bayes(X_train_vec, y_train)\n",
        "    nb_cv_scores = cross_val_score(nb_model, X_train_vec, y_train, cv=5, scoring='accuracy')\n",
        "    print(f'Naive Bayes Cross-Validation Accuracy: {nb_cv_scores.mean() * 100:.2f}%')\n",
        "\n",
        "    # Cross-validation for SVM\n",
        "    svm_model = train_svm(X_train_vec, y_train)\n",
        "    svm_cv_scores = cross_val_score(svm_model, X_train_vec, y_train, cv=5, scoring='accuracy')\n",
        "    print(f'SVM Cross-Validation Accuracy: {svm_cv_scores.mean() * 100:.2f}%')\n",
        "\n",
        "    # Logistic regression\n",
        "    logistic_model = train_logistic_regression(X_train_vec, y_train)\n",
        "    logistic_regression_cv_scores = cross_val_score(logistic_model, X_train_vec, y_train, cv=5, scoring='accuracy')\n",
        "    print(f'Logistic Regression Cross-Validation Accuracy: {logistic_regression_cv_scores.mean() * 100:.2f}%')\n",
        "\n",
        "    # Train and evaluate Naive Bayes\n",
        "    nb_predictions = evaluate_model(nb_model, X_test_vec, y_test, \"Naive Bayes\")\n",
        "\n",
        "    # Train and evaluate SVM\n",
        "    svm_predictions = evaluate_model(svm_model, X_test_vec, y_test, \"Support Vector Machine\")\n",
        "\n",
        "    # Train and evaluate logistic regression\n",
        "    logistic_regression_predictions = evaluate_model(logistic_model, X_test_vec, y_test, \"Logistic Regression\")\n",
        "\n",
        "\n",
        "    return {\n",
        "        'naive_bayes': {\n",
        "            'model': nb_model,\n",
        "            'predictions': nb_predictions,\n",
        "            'cv_scores': nb_cv_scores\n",
        "        },\n",
        "        'svm': {\n",
        "            'model': svm_model,\n",
        "            'predictions': svm_predictions,\n",
        "            'cv_scores': svm_cv_scores\n",
        "        },\n",
        "        'logistic_regression': {\n",
        "            'model': logistic_model,\n",
        "            'predictions': logistic_regression_predictions,\n",
        "            'val_accuracy': logistic_regression_cv_scores\n",
        "        },\n",
        "        'vectorizer': vectorizer\n",
        "    }"
      ]
    },
    {
      "cell_type": "code",
      "execution_count": 53,
      "metadata": {
        "colab": {
          "base_uri": "https://localhost:8080/"
        },
        "id": "L3t3DGsmp8P9",
        "outputId": "67f7a0a9-803e-403b-e193-2f015dd13872"
      },
      "outputs": [
        {
          "name": "stdout",
          "output_type": "stream",
          "text": [
            "havana reuters cuban authority launched smallscale fumigation effort havana friday fight spread oropouche virus rainy caribbean summer fuel shortage growing roadside trash heap complicating effort worker official saidmore 500 case virus registered since may disease first detected fareastern cuba official weekthe virus known sloth fever transmitted bite mosquito midge spread quickly across country province major city including capital havana patient complain fever body ache nausea though disease rarely fatalfumigation worker using handheld gaspowered blower fired smoke dark corner alleyway part havana friday though effort stymied part limited resource past block fumigated every week … due fuel shortage focus specific case fever outbreak occur havana fumigation worker luís aguilarus authority earlier week 21 u citizen visited cuba summer month returned home case oropouchecuba reported relatively case compared country including brazil virus present fatalitiesbut economic crisis shortage fuel food medicine hampered effort control spread mosquitoborne illness oropouche dengue fever authority saidfrequent power outage mean many sleep window open hot caribbean summer cuban access insect repellenttrash heap grown size street corner combined summer rain provide ample breeding ground biting insect authority saidthere specific treatment vaccine available oropouchereporting carlos carrillo alien fernandez editing dave sherwood stephen coates\n",
            "Naive Bayes Cross-Validation Accuracy: 96.16%\n",
            "SVM Cross-Validation Accuracy: 95.68%\n",
            "Logistic Regression Cross-Validation Accuracy: 97.04%\n",
            "\n",
            "Naive Bayes Results:\n",
            "Accuracy: 97.49%\n",
            "\n",
            "Classification Report:\n",
            "              precision    recall  f1-score   support\n",
            "\n",
            "           0       0.97      0.97      0.97       273\n",
            "           1       0.98      0.98      0.98       404\n",
            "\n",
            "    accuracy                           0.97       677\n",
            "   macro avg       0.97      0.97      0.97       677\n",
            "weighted avg       0.97      0.97      0.97       677\n",
            "\n",
            "\n",
            "Support Vector Machine Results:\n",
            "Accuracy: 95.27%\n",
            "\n",
            "Classification Report:\n",
            "              precision    recall  f1-score   support\n",
            "\n",
            "           0       0.97      0.91      0.94       273\n",
            "           1       0.94      0.98      0.96       404\n",
            "\n",
            "    accuracy                           0.95       677\n",
            "   macro avg       0.96      0.95      0.95       677\n",
            "weighted avg       0.95      0.95      0.95       677\n",
            "\n",
            "\n",
            "Logistic Regression Results:\n",
            "Accuracy: 96.31%\n",
            "\n",
            "Classification Report:\n",
            "              precision    recall  f1-score   support\n",
            "\n",
            "           0       0.99      0.92      0.95       273\n",
            "           1       0.95      0.99      0.97       404\n",
            "\n",
            "    accuracy                           0.96       677\n",
            "   macro avg       0.97      0.96      0.96       677\n",
            "weighted avg       0.96      0.96      0.96       677\n",
            "\n"
          ]
        }
      ],
      "source": [
        "# Example usage\n",
        "if __name__ == \"__main__\":\n",
        "    # Assuming df is your DataFrame\n",
        "    results = main(df)"
      ]
    }
  ],
  "metadata": {
    "colab": {
      "provenance": []
    },
    "kernelspec": {
      "display_name": "Python 3",
      "name": "python3"
    },
    "language_info": {
      "codemirror_mode": {
        "name": "ipython",
        "version": 3
      },
      "file_extension": ".py",
      "mimetype": "text/x-python",
      "name": "python",
      "nbconvert_exporter": "python",
      "pygments_lexer": "ipython3",
      "version": "3.12.6"
    }
  },
  "nbformat": 4,
  "nbformat_minor": 0
}
